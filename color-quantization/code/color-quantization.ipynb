{
 "cells": [
  {
   "cell_type": "code",
   "execution_count": 1,
   "metadata": {},
   "outputs": [
    {
     "name": "stdout",
     "output_type": "stream",
     "text": [
      "(665000, 3) 141862\n"
     ]
    }
   ],
   "source": [
    "import requests\n",
    "from PIL import Image\n",
    "from io import BytesIO\n",
    "import numpy as np\n",
    "\n",
    "url = 'https://upload.wikimedia.org/wikipedia/commons/f/f2/Brachyscome_iberidifolia_Toucan_Tango_2zz.jpg'\n",
    "\n",
    "# Wikimedia access requires a user agent\n",
    "headers = {\n",
    "    'User-Agent': 'DataDiary/0.1 (jared@datadiary.dev)'\n",
    "}\n",
    "response = requests.get(url, headers=headers)\n",
    "image = Image.open(BytesIO(response.content))\n",
    "image = image.convert('RGB')\n",
    "\n",
    "image_array = np.array(image)\n",
    "height = image_array.shape[0]\n",
    "width = image_array.shape[1]\n",
    "image_array_flat = image_array.flatten().reshape((\n",
    "    height * width,\n",
    "    3\n",
    "))\n",
    "\n",
    "view = image_array_flat.view((\n",
    "    np.void,\n",
    "    image_array_flat.dtype.itemsize * image_array_flat.shape[1]\n",
    "))\n",
    "num_colors = len(np.unique(view))\n",
    "\n",
    "print(image_array_flat.shape, num_colors)"
   ]
  },
  {
   "cell_type": "code",
   "execution_count": 2,
   "metadata": {},
   "outputs": [],
   "source": [
    "from sklearn.cluster import KMeans\n",
    "\n",
    "kmeans = KMeans(n_clusters=3)\n",
    "labels = kmeans.fit_predict(image_array_flat)\n",
    "centroids = np.round(kmeans.cluster_centers_).astype('uint8')\n",
    "\n",
    "quantized_image_array_flat = centroids[labels]\n",
    "quantized_image_array = quantized_image_array_flat.reshape(image_array.shape)\n",
    "\n",
    "quantized_image = Image.fromarray(quantized_image_array, 'RGB')\n",
    "\n",
    "quantized_image.save('Brachyscome_iberidifolia_Toucan_Tango_2zz_KMEANS3.png', 'PNG')\n",
    "quantized_image.show()"
   ]
  },
  {
   "cell_type": "code",
   "execution_count": 25,
   "metadata": {},
   "outputs": [
    {
     "ename": "SyntaxError",
     "evalue": "keyword argument repeated: xaxis (3356837023.py, line 41)",
     "output_type": "error",
     "traceback": [
      "\u001b[0;36m  Cell \u001b[0;32mIn[25], line 41\u001b[0;36m\u001b[0m\n\u001b[0;31m    xaxis=dict(showspikes=False),\u001b[0m\n\u001b[0m    ^\u001b[0m\n\u001b[0;31mSyntaxError\u001b[0m\u001b[0;31m:\u001b[0m keyword argument repeated: xaxis\n"
     ]
    }
   ],
   "source": [
    "import plotly.graph_objects as go\n",
    "\n",
    "# sample 10k pixels to appear in the visual\n",
    "image_array_flat_sample = image_array_flat[np.random.choice(image_array_flat.shape[0], 10_000)]\n",
    "\n",
    "# plot pixels\n",
    "fig = go.Figure(data=[go.Scatter3d(\n",
    "    x=image_array_flat_sample[:, 0],\n",
    "    y=image_array_flat_sample[:, 1],\n",
    "    z=image_array_flat_sample[:, 2],\n",
    "    mode='markers',\n",
    "    marker=dict(\n",
    "        size=2,\n",
    "        color=[f'rgb({pixel[0]}, {pixel[1]}, {pixel[2]})' for pixel in image_array_flat_sample],\n",
    "        opacity=0.05,\n",
    "        line=dict(width=0)\n",
    "    ),\n",
    "    hovertemplate = '<b>R</b>: %{x}<br><b>G</b>: %{y}<br><b>B</b>: %{z}<extra></extra>'\n",
    ")])\n",
    "\n",
    "# plot centroids\n",
    "fig.add_trace(go.Scatter3d(\n",
    "    x=centroids[:, 0],\n",
    "    y=centroids[:, 1],\n",
    "    z=centroids[:, 2],\n",
    "    mode='markers',\n",
    "    marker=dict(\n",
    "        size=12,\n",
    "        color=[f'rgb({centroid[0]}, {centroid[1]}, {centroid[2]})' for centroid in centroids],\n",
    "        opacity=1.0,\n",
    "        line=dict(width=0)\n",
    "    ),\n",
    "    hovertemplate = '<b>R</b>: %{x}<br><b>G</b>: %{y}<br><b>B</b>: %{z}<extra></extra>'\n",
    "))\n",
    "\n",
    "fig.update_layout(\n",
    "    scene=dict(\n",
    "        xaxis=dict(title='R', showspikes=False),\n",
    "        yaxis=dict(title='G', showspikes=False),\n",
    "        zaxis=dict(title='B', showspikes=False)\n",
    "    )\n",
    ")\n",
    "\n",
    "fig.show()\n",
    "\n",
    "with open('centroids_in_color_space.json', 'w') as outfile:\n",
    "    outfile.write(fig.to_json())"
   ]
  },
  {
   "cell_type": "code",
   "execution_count": null,
   "metadata": {},
   "outputs": [],
   "source": []
  }
 ],
 "metadata": {
  "kernelspec": {
   "display_name": "color-quantization",
   "language": "python",
   "name": "python3"
  },
  "language_info": {
   "codemirror_mode": {
    "name": "ipython",
    "version": 3
   },
   "file_extension": ".py",
   "mimetype": "text/x-python",
   "name": "python",
   "nbconvert_exporter": "python",
   "pygments_lexer": "ipython3",
   "version": "3.11.9"
  }
 },
 "nbformat": 4,
 "nbformat_minor": 2
}
