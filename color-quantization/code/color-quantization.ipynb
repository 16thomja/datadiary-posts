{
 "cells": [
  {
   "cell_type": "code",
   "execution_count": 26,
   "metadata": {},
   "outputs": [
    {
     "name": "stdout",
     "output_type": "stream",
     "text": [
      "(665000, 3) 141862\n"
     ]
    }
   ],
   "source": [
    "import requests\n",
    "from PIL import Image\n",
    "from io import BytesIO\n",
    "import numpy as np\n",
    "\n",
    "url = 'https://upload.wikimedia.org/wikipedia/commons/f/f2/Brachyscome_iberidifolia_Toucan_Tango_2zz.jpg'\n",
    "response = requests.get(url)\n",
    "image = Image.open(BytesIO(response.content))\n",
    "image = image.convert('RGB')\n",
    "\n",
    "image_array = np.array(image)\n",
    "height = image_array.shape[0]\n",
    "width = image_array.shape[1]\n",
    "image_array_flat = image_array.flatten().reshape((\n",
    "    height * width,\n",
    "    3\n",
    "))\n",
    "\n",
    "view = image_array_flat.view((\n",
    "    np.void,\n",
    "    image_array_flat.dtype.itemsize * image_array_flat.shape[1]\n",
    "))\n",
    "num_colors = len(np.unique(view))\n",
    "\n",
    "print(image_array_flat.shape, num_colors)"
   ]
  },
  {
   "cell_type": "code",
   "execution_count": 37,
   "metadata": {},
   "outputs": [],
   "source": [
    "from sklearn.cluster import KMeans\n",
    "\n",
    "kmeans = KMeans(n_clusters=3)\n",
    "labels = kmeans.fit_predict(image_array_flat)\n",
    "centroids = np.round(kmeans.cluster_centers_).astype('uint8')\n",
    "\n",
    "quantized_image_array_flat = centroids[labels]\n",
    "quantized_image_array = quantized_image_array_flat.reshape(image_array.shape)\n",
    "\n",
    "quantized_image = Image.fromarray(quantized_image_array, 'RGB')\n",
    "\n",
    "quantized_image.save('Brachyscome_iberidifolia_Toucan_Tango_2zz_KMEANS3.png', 'PNG')\n",
    "quantized_image.show()"
   ]
  },
  {
   "cell_type": "code",
   "execution_count": null,
   "metadata": {},
   "outputs": [],
   "source": []
  }
 ],
 "metadata": {
  "kernelspec": {
   "display_name": "color-quantization",
   "language": "python",
   "name": "python3"
  },
  "language_info": {
   "codemirror_mode": {
    "name": "ipython",
    "version": 3
   },
   "file_extension": ".py",
   "mimetype": "text/x-python",
   "name": "python",
   "nbconvert_exporter": "python",
   "pygments_lexer": "ipython3",
   "version": "3.11.9"
  }
 },
 "nbformat": 4,
 "nbformat_minor": 2
}
